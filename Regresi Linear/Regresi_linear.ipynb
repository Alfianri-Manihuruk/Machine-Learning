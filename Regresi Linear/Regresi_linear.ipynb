{
 "cells": [
  {
   "attachments": {},
   "cell_type": "markdown",
   "metadata": {},
   "source": [
    "# Regresi Linear Sederhana"
   ]
  },
  {
   "cell_type": "code",
   "execution_count": 43,
   "metadata": {},
   "outputs": [],
   "source": [
    "import numpy as np\n",
    "import matplotlib.pyplot as plt\n",
    "%matplotlib widget \n",
    "from matplotlib.animation import FuncAnimation"
   ]
  },
  {
   "cell_type": "code",
   "execution_count": 3,
   "metadata": {},
   "outputs": [
    {
     "name": "stdout",
     "output_type": "stream",
     "text": [
      "Requirement already satisfied: ipympl in c:\\users\\alfianri manihuruk\\miniconda3\\lib\\site-packages (0.9.3)\n",
      "Requirement already satisfied: numpy in c:\\users\\alfianri manihuruk\\miniconda3\\lib\\site-packages (from ipympl) (1.23.3)\n",
      "Requirement already satisfied: ipython<9 in c:\\users\\alfianri manihuruk\\miniconda3\\lib\\site-packages (from ipympl) (8.4.0)\n",
      "Requirement already satisfied: ipython-genutils in c:\\users\\alfianri manihuruk\\miniconda3\\lib\\site-packages (from ipympl) (0.2.0)\n",
      "Requirement already satisfied: matplotlib<4,>=3.4.0 in c:\\users\\alfianri manihuruk\\miniconda3\\lib\\site-packages (from ipympl) (3.5.2)\n",
      "Requirement already satisfied: traitlets<6 in c:\\users\\alfianri manihuruk\\miniconda3\\lib\\site-packages (from ipympl) (5.1.1)\n",
      "Requirement already satisfied: pillow in c:\\users\\alfianri manihuruk\\miniconda3\\lib\\site-packages (from ipympl) (9.2.0)\n",
      "Requirement already satisfied: ipywidgets<9,>=7.6.0 in c:\\users\\alfianri manihuruk\\miniconda3\\lib\\site-packages (from ipympl) (8.0.6)\n",
      "Requirement already satisfied: jedi>=0.16 in c:\\users\\alfianri manihuruk\\miniconda3\\lib\\site-packages (from ipython<9->ipympl) (0.18.1)\n",
      "Requirement already satisfied: pygments>=2.4.0 in c:\\users\\alfianri manihuruk\\miniconda3\\lib\\site-packages (from ipython<9->ipympl) (2.11.2)\n",
      "Requirement already satisfied: stack-data in c:\\users\\alfianri manihuruk\\miniconda3\\lib\\site-packages (from ipython<9->ipympl) (0.2.0)\n",
      "Requirement already satisfied: pickleshare in c:\\users\\alfianri manihuruk\\miniconda3\\lib\\site-packages (from ipython<9->ipympl) (0.7.5)\n",
      "Requirement already satisfied: setuptools>=18.5 in c:\\users\\alfianri manihuruk\\miniconda3\\lib\\site-packages (from ipython<9->ipympl) (61.2.0)\n",
      "Requirement already satisfied: decorator in c:\\users\\alfianri manihuruk\\miniconda3\\lib\\site-packages (from ipython<9->ipympl) (5.1.1)\n",
      "Requirement already satisfied: matplotlib-inline in c:\\users\\alfianri manihuruk\\miniconda3\\lib\\site-packages (from ipython<9->ipympl) (0.1.6)\n",
      "Requirement already satisfied: prompt-toolkit!=3.0.0,!=3.0.1,<3.1.0,>=2.0.0 in c:\\users\\alfianri manihuruk\\miniconda3\\lib\\site-packages (from ipython<9->ipympl) (3.0.20)\n",
      "Requirement already satisfied: colorama in c:\\users\\alfianri manihuruk\\miniconda3\\lib\\site-packages (from ipython<9->ipympl) (0.4.4)\n",
      "Requirement already satisfied: backcall in c:\\users\\alfianri manihuruk\\miniconda3\\lib\\site-packages (from ipython<9->ipympl) (0.2.0)\n",
      "Requirement already satisfied: widgetsnbextension~=4.0.7 in c:\\users\\alfianri manihuruk\\miniconda3\\lib\\site-packages (from ipywidgets<9,>=7.6.0->ipympl) (4.0.7)\n",
      "Requirement already satisfied: jupyterlab-widgets~=3.0.7 in c:\\users\\alfianri manihuruk\\miniconda3\\lib\\site-packages (from ipywidgets<9,>=7.6.0->ipympl) (3.0.7)\n",
      "Requirement already satisfied: ipykernel>=4.5.1 in c:\\users\\alfianri manihuruk\\miniconda3\\lib\\site-packages (from ipywidgets<9,>=7.6.0->ipympl) (6.15.2)\n",
      "Requirement already satisfied: psutil in c:\\users\\alfianri manihuruk\\miniconda3\\lib\\site-packages (from ipykernel>=4.5.1->ipywidgets<9,>=7.6.0->ipympl) (5.9.0)\n",
      "Requirement already satisfied: packaging in c:\\users\\alfianri manihuruk\\miniconda3\\lib\\site-packages (from ipykernel>=4.5.1->ipywidgets<9,>=7.6.0->ipympl) (21.3)\n",
      "Requirement already satisfied: debugpy>=1.0 in c:\\users\\alfianri manihuruk\\miniconda3\\lib\\site-packages (from ipykernel>=4.5.1->ipywidgets<9,>=7.6.0->ipympl) (1.5.1)\n",
      "Requirement already satisfied: tornado>=6.1 in c:\\users\\alfianri manihuruk\\miniconda3\\lib\\site-packages (from ipykernel>=4.5.1->ipywidgets<9,>=7.6.0->ipympl) (6.2)\n",
      "Requirement already satisfied: pyzmq>=17 in c:\\users\\alfianri manihuruk\\miniconda3\\lib\\site-packages (from ipykernel>=4.5.1->ipywidgets<9,>=7.6.0->ipympl) (23.2.0)\n",
      "Requirement already satisfied: jupyter-client>=6.1.12 in c:\\users\\alfianri manihuruk\\miniconda3\\lib\\site-packages (from ipykernel>=4.5.1->ipywidgets<9,>=7.6.0->ipympl) (7.3.5)\n",
      "Requirement already satisfied: nest-asyncio in c:\\users\\alfianri manihuruk\\miniconda3\\lib\\site-packages (from ipykernel>=4.5.1->ipywidgets<9,>=7.6.0->ipympl) (1.5.5)\n",
      "Requirement already satisfied: parso<0.9.0,>=0.8.0 in c:\\users\\alfianri manihuruk\\miniconda3\\lib\\site-packages (from jedi>=0.16->ipython<9->ipympl) (0.8.3)\n",
      "Requirement already satisfied: jupyter-core>=4.9.2 in c:\\users\\alfianri manihuruk\\miniconda3\\lib\\site-packages (from jupyter-client>=6.1.12->ipykernel>=4.5.1->ipywidgets<9,>=7.6.0->ipympl) (4.11.1)\n",
      "Requirement already satisfied: entrypoints in c:\\users\\alfianri manihuruk\\miniconda3\\lib\\site-packages (from jupyter-client>=6.1.12->ipykernel>=4.5.1->ipywidgets<9,>=7.6.0->ipympl) (0.4)\n",
      "Requirement already satisfied: python-dateutil>=2.8.2 in c:\\users\\alfianri manihuruk\\miniconda3\\lib\\site-packages (from jupyter-client>=6.1.12->ipykernel>=4.5.1->ipywidgets<9,>=7.6.0->ipympl) (2.8.2)\n",
      "Requirement already satisfied: pywin32>=1.0 in c:\\users\\alfianri manihuruk\\miniconda3\\lib\\site-packages (from jupyter-core>=4.9.2->jupyter-client>=6.1.12->ipykernel>=4.5.1->ipywidgets<9,>=7.6.0->ipympl) (302)\n",
      "Requirement already satisfied: pyparsing>=2.2.1 in c:\\users\\alfianri manihuruk\\miniconda3\\lib\\site-packages (from matplotlib<4,>=3.4.0->ipympl) (3.0.9)\n",
      "Requirement already satisfied: cycler>=0.10 in c:\\users\\alfianri manihuruk\\miniconda3\\lib\\site-packages (from matplotlib<4,>=3.4.0->ipympl) (0.11.0)\n",
      "Requirement already satisfied: fonttools>=4.22.0 in c:\\users\\alfianri manihuruk\\miniconda3\\lib\\site-packages (from matplotlib<4,>=3.4.0->ipympl) (4.25.0)\n",
      "Requirement already satisfied: kiwisolver>=1.0.1 in c:\\users\\alfianri manihuruk\\miniconda3\\lib\\site-packages (from matplotlib<4,>=3.4.0->ipympl) (1.4.2)\n",
      "Requirement already satisfied: wcwidth in c:\\users\\alfianri manihuruk\\miniconda3\\lib\\site-packages (from prompt-toolkit!=3.0.0,!=3.0.1,<3.1.0,>=2.0.0->ipython<9->ipympl) (0.2.5)\n",
      "Requirement already satisfied: six>=1.5 in c:\\users\\alfianri manihuruk\\miniconda3\\lib\\site-packages (from python-dateutil>=2.8.2->jupyter-client>=6.1.12->ipykernel>=4.5.1->ipywidgets<9,>=7.6.0->ipympl) (1.16.0)\n",
      "Requirement already satisfied: pure-eval in c:\\users\\alfianri manihuruk\\miniconda3\\lib\\site-packages (from stack-data->ipython<9->ipympl) (0.2.2)\n",
      "Requirement already satisfied: executing in c:\\users\\alfianri manihuruk\\miniconda3\\lib\\site-packages (from stack-data->ipython<9->ipympl) (0.8.3)\n",
      "Requirement already satisfied: asttokens in c:\\users\\alfianri manihuruk\\miniconda3\\lib\\site-packages (from stack-data->ipython<9->ipympl) (2.0.5)\n",
      "Note: you may need to restart the kernel to use updated packages.\n"
     ]
    }
   ],
   "source": [
    "pip install ipympl"
   ]
  },
  {
   "attachments": {},
   "cell_type": "markdown",
   "metadata": {},
   "source": [
    " Sample data\n",
    "- Untuk sample datanya digunakan sebanyak 500 sample, dimanana untuk data samplenya di generate menggunakan bilangan random\n"
   ]
  },
  {
   "cell_type": "code",
   "execution_count": 44,
   "metadata": {},
   "outputs": [],
   "source": [
    "jumlah_data = 500\n",
    "\n",
    "y = np.array([i*0.1+np.random.randn() for i in range(jumlah_data)])\n",
    "x = np.array([i*0.1 for i in range(jumlah_data)])"
   ]
  },
  {
   "attachments": {},
   "cell_type": "markdown",
   "metadata": {},
   "source": [
    "Fungsi Linear\n",
    "- untuk model regresi linear dapat di tuliskan sebagai berikut y = a + bx + c (c= eror)\n"
   ]
  },
  {
   "cell_type": "code",
   "execution_count": 20,
   "metadata": {},
   "outputs": [],
   "source": [
    "def mod_linear(x, gradien):\n",
    "    y = gradien * x\n",
    "    return y\n",
    "# fungsi ini merupakan persamaan linear awal"
   ]
  },
  {
   "cell_type": "code",
   "execution_count": 21,
   "metadata": {},
   "outputs": [],
   "source": [
    "x_pred = np.array([0,10])\n",
    "m_awal = 5\n",
    "y_pred = mod_linear(x_pred, m_awal)"
   ]
  },
  {
   "cell_type": "code",
   "execution_count": 35,
   "metadata": {},
   "outputs": [],
   "source": [
    "m_pred = m_awal\n",
    "m_list_pred = []\n",
    "y_list_pred = []\n",
    "x_list_pred = []\n",
    "learning_rate = 0.1\n",
    "for i in range(1, jumlah_data):\n",
    "    y_pred = mod_linear(x[i], m_pred)\n",
    "    y_actual = y[i]\n",
    "\n",
    "    eror = y_actual - y_pred\n",
    "    delta_m = learning_rate*(eror/x[i])\n",
    "    m_pred = m_pred + delta_m\n",
    "    \n",
    "    m_list_pred.append(m_pred)\n",
    "    y_list_pred.append(mod_linear(np.array([0,10]),m_pred))\n",
    "    x_list_pred.append(np.array([0,10]))\n"
   ]
  },
  {
   "attachments": {},
   "cell_type": "markdown",
   "metadata": {},
   "source": [
    "Evaluasi Model (RSME)\n",
    "- RMSE = ((y_aktual - y_prediksi)**)**0.2"
   ]
  },
  {
   "cell_type": "code",
   "execution_count": 41,
   "metadata": {},
   "outputs": [
    {
     "name": "stdout",
     "output_type": "stream",
     "text": [
      "0.06908720281535957\n"
     ]
    }
   ],
   "source": [
    "rmse = 0\n",
    "for i in range(jumlah_data):\n",
    "    y_pred = mod_linear(x[i], m_pred)\n",
    "    rmse = (y_actual - y_pred) ** 2\n",
    "rmse = np.sqrt(rmse/jumlah_data)\n",
    "print(rmse)"
   ]
  },
  {
   "attachments": {},
   "cell_type": "markdown",
   "metadata": {},
   "source": [
    "Visualisasi Hasil Prediksi"
   ]
  },
  {
   "cell_type": "code",
   "execution_count": 42,
   "metadata": {},
   "outputs": [
    {
     "data": {
      "application/vnd.jupyter.widget-view+json": {
       "model_id": "bc21bc107deb4396b00f84561d02fc0d",
       "version_major": 2,
       "version_minor": 0
      },
      "image/png": "[encoded data removed]",
      "text/html": [
       "\n",
       "            <div style=\"display: inline-block;\">\n",
       "                <div class=\"jupyter-widgets widget-label\" style=\"text-align: center;\">\n",
       "                    Figure\n",
       "                </div>\n",
       "                <img src='data:image/png;base64,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' width=400.0/>\n",
       "            </div>\n",
       "        "
      ],
      "text/plain": [
       "Canvas(toolbar=Toolbar(toolitems=[('Home', 'Reset original view', 'home', 'home'), ('Back', 'Back to previous …"
      ]
     },
     "metadata": {},
     "output_type": "display_data"
    }
   ],
   "source": [
    "fig = plt.figure(figsize=(4,4))\n",
    "line, = plt.plot([],[], \"Red\")\n",
    "\n",
    "def animate (frame_num):\n",
    "    x = x_list_pred[frame_num]\n",
    "    y = y_list_pred[frame_num]\n",
    "    line.set_data((x,y))\n",
    "    return line\n",
    "\n",
    "plt.scatter(x,y)\n",
    "plt.axis([0,10,0,10])\n",
    "anime = FuncAnimation(fig, animate, frames=100, interval= 100, repeat= False)\n",
    "plt.show()"
   ]
  },
  {
   "cell_type": "code",
   "execution_count": null,
   "metadata": {},
   "outputs": [],
   "source": []
  }
 ],
 "metadata": {
  "kernelspec": {
   "display_name": "base",
   "language": "python",
   "name": "python3"
  },
  "language_info": {
   "codemirror_mode": {
    "name": "ipython",
    "version": 3
   },
   "file_extension": ".py",
   "mimetype": "text/x-python",
   "name": "python",
   "nbconvert_exporter": "python",
   "pygments_lexer": "ipython3",
   "version": "3.9.12"
  },
  "orig_nbformat": 4
 },
 "nbformat": 4,
 "nbformat_minor": 2
}
